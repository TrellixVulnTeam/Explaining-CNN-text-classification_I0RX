{
 "cells": [
  {
   "cell_type": "markdown",
   "id": "individual-democrat",
   "metadata": {},
   "source": [
    "Import packages and helper functions"
   ]
  },
  {
   "cell_type": "code",
   "execution_count": 10,
   "id": "adverse-prescription",
   "metadata": {},
   "outputs": [],
   "source": [
    "import numpy as np\n",
    "import matplotlib.pyplot as plt\n",
    "import os\n",
    "import copy\n",
    "import subprocess\n",
    "\n",
    "def threshold(diff, percentage):\n",
    "    dif_1=copy.deepcopy(diff)\n",
    "    dif_total_1 = copy.deepcopy(dif_1)\n",
    "    thres_1_1=np.percentile(dif_1, percentage)\n",
    "    thres_1_2=np.percentile(dif_1, 100-percentage)\n",
    "    mask_1_1 = dif_1 < thres_1_1\n",
    "    mask_1_2 = (dif_1 >= thres_1_1) & (dif_1 < thres_1_2)\n",
    "    mask_1_3 = dif_1 >= thres_1_2\n",
    "    dif_total_1[mask_1_2] = 0\n",
    "    dif_total = dif_total_1\n",
    "    return dif_total \n",
    "\n",
    "def normalize_words(abs_attack): \n",
    "    \"\"\"normalize saliency across embd index\"\"\"\n",
    "    average_attack = np.mean(abs_attack,axis = 0) #average saliency for each embd index\n",
    "    normalized_attack_sq = (abs_attack-average_attack)**2\n",
    "    return normalized_attack_sq\n",
    "\n",
    "samples=[\"it's a glorified sitcom , and a long , unfunny one at that .\",#\n",
    "    \"it kinda works and qualifies as cool at times , but is just too lame to work or be cool at others .\",\n",
    "    \"it cannot be enjoyed , even on the level that one enjoys a bad slasher flick , primarily because it is dull . yes , dull .\",\n",
    "    \"makes for a pretty unpleasant viewing experience . \",\n",
    "    \"the result is a gaudy bag of stale candy , something from a halloween that died . \",\n",
    "    \"deadeningly dull , mired in convoluted melodrama , nonsensical jargon and stiff-upper-lip laboriousness .\",\n",
    "    \"an occasionally funny , but overall limp , fish-out-of-water story .\",\n",
    "    \"nasty , ugly , pointless and depressing , even if you hate clowns . \",\n",
    "    \"manages to be both repulsively sadistic and mundane .\",\n",
    "    \"it's basically an overlong episode of tales from the crypt .\",\n",
    "    \"a work of astonishing delicacy and force . \",#\n",
    "    \"noyce's film is contemplative and mournfully reflective . \",\n",
    "    \"the story , like life , refuses to be simple , and the result is a compelling slice of awkward emotions . \",\n",
    "    \"it's a beautifully accomplished lyrical meditation on a bunch of despondent and vulnerable characters living in the renown chelsea hotel . . . \",\n",
    "    \"a compelling portrait of moral emptiness\",\n",
    "    \"engrossing and affecting , if ultimately not quite satisfying . \",\n",
    "    \"an elegant , exquisitely modulated psychological thriller . \",\n",
    "    \"there is a refreshing absence of cynicism in stuart little 2--quite a rarity , even in the family film market . eventually , it wins you over . \"\n",
    "    ]"
   ]
  },
  {
   "cell_type": "code",
   "execution_count": 16,
   "id": "mysterious-homework",
   "metadata": {},
   "outputs": [
    {
     "data": {
      "image/png": "[encoded data removed]",
      "text/plain": [
       "<Figure size 432x288 with 1 Axes>"
      ]
     },
     "metadata": {
      "needs_background": "light"
     },
     "output_type": "display_data"
    },
    {
     "data": {
      "image/png": "[encoded data removed]",
      "text/plain": [
       "<Figure size 432x288 with 1 Axes>"
      ]
     },
     "metadata": {
      "needs_background": "light"
     },
     "output_type": "display_data"
    },
    {
     "data": {
      "text/plain": [
       "<Figure size 432x288 with 0 Axes>"
      ]
     },
     "metadata": {},
     "output_type": "display_data"
    }
   ],
   "source": [
    "clean_symbols=True\n",
    "plot_averaged_saliency=True\n",
    "for i in range(len(samples)):\n",
    "    if i >0:break\n",
    "    subprocess.call([\"python\", \"main.py\", \"-no-cuda\", \"-snapshot\",\n",
    "                     \"snapshot/best_steps_1900.pt\",\n",
    "                     \"-example_save_path\",\n",
    "                     \"tmp_saved_data/\",\n",
    "                     \"-predict_and_attack\",\n",
    "                     \"{}\".format(samples[i])\n",
    "                    ])\n",
    "\n",
    "    x_index = np.load('tmp_saved_data/x_index.npy',allow_pickle=True)\n",
    "    pred_adv_lst = np.load('tmp_saved_data/pred_adv_lst.npy',allow_pickle=True)\n",
    "    attacks_lst_PGDM = np.load('tmp_saved_data/attacks_lst_PGDM.npy',allow_pickle=True)\n",
    "    text = np.load('tmp_saved_data/text.npy',allow_pickle=True)\n",
    "    abs_attack_pgdm = np.absolute(np.sum(attacks_lst_PGDM,axis=0)[x_index])\n",
    "    abs_attack_fgm = np.absolute(attacks_lst_PGDM[0][x_index])\n",
    "    \n",
    "    normalized_score = normalize_words(abs_attack_fgm).sum(axis=1).reshape(-1,1)\n",
    "    text_with_score = [text[ii]+\"_{}\".format(normalized_score[ii]) for ii in range(len(text))]\n",
    "    \n",
    "    if clean_symbols:\n",
    "        clean_ind = np.invert((text==',')+(text=='')+(text=='.'))\n",
    "    else:\n",
    "        clean_ind = np.ones((len(text),), dtype=bool)\n",
    "#     print('clean_ind :',clean_ind )\n",
    "    \n",
    "\n",
    "#     if \"plot_saliency_map\" == True:\n",
    "    fig = plt.figure()\n",
    "    ax = fig.add_subplot()\n",
    "    fig.subplots_adjust(left=.15, bottom=.16, right=.99, top=.97)\n",
    "    im = ax.imshow(normalize_words(abs_attack_fgm),cmap='hot')\n",
    "#     im = ax.imshow((abs_attack_fgm),cmap='hot')\n",
    "    ax.set_yticks(np.arange(len(text)))\n",
    "    ax.set_yticklabels(text)\n",
    "    ax.set_xlabel ('Embedding Dimension')\n",
    "\n",
    "#     if \"plot_averaged_saliency\" == True:\n",
    "    fig = plt.figure()\n",
    "    ax = fig.add_subplot()\n",
    "    fig.subplots_adjust(left=.15, bottom=.16, right=.99, top=.97)\n",
    "    im = ax.imshow(normalized_score[clean_ind],cmap='hot')\n",
    "    ax.set_yticks(np.arange(len(text[clean_ind])))\n",
    "    ax.set_yticklabels(np.array(text_with_score)[clean_ind])\n",
    "    plt.xticks([])\n",
    "    plt.show()\n",
    "    plt.savefig('results/sample_{}'.format(i))\n"
   ]
  },
  {
   "cell_type": "code",
   "execution_count": null,
   "id": "expired-baker",
   "metadata": {},
   "outputs": [],
   "source": []
  }
 ],
 "metadata": {
  "kernelspec": {
   "display_name": "Python 3",
   "language": "python",
   "name": "python3"
  },
  "language_info": {
   "codemirror_mode": {
    "name": "ipython",
    "version": 3
   },
   "file_extension": ".py",
   "mimetype": "text/x-python",
   "name": "python",
   "nbconvert_exporter": "python",
   "pygments_lexer": "ipython3",
   "version": "3.7.3"
  }
 },
 "nbformat": 4,
 "nbformat_minor": 5
}
